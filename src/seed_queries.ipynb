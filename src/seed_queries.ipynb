{
 "cells": [
  {
   "cell_type": "code",
   "id": "initial_id",
   "metadata": {
    "collapsed": true,
    "ExecuteTime": {
     "end_time": "2024-09-11T16:49:29.165884Z",
     "start_time": "2024-09-11T16:49:29.160861Z"
    }
   },
   "source": [
    "import os\n",
    "import json\n",
    "from openai import OpenAI\n",
    "\n",
    "from dotenv import load_dotenv\n",
    "\n",
    "load_dotenv()"
   ],
   "outputs": [
    {
     "data": {
      "text/plain": [
       "True"
      ]
     },
     "execution_count": 38,
     "metadata": {},
     "output_type": "execute_result"
    }
   ],
   "execution_count": 38
  },
  {
   "cell_type": "code",
   "execution_count": 5,
   "id": "6b49b512fdc1891e",
   "metadata": {
    "ExecuteTime": {
     "end_time": "2024-09-11T14:32:56.556027Z",
     "start_time": "2024-09-11T14:32:56.536230Z"
    }
   },
   "outputs": [],
   "source": [
    "client = OpenAI(api_key=os.getenv(\"OPENAI_API_KEY\"))"
   ]
  },
  {
   "cell_type": "code",
   "execution_count": 13,
   "id": "d2e1df8eda46a0f5",
   "metadata": {
    "ExecuteTime": {
     "end_time": "2024-09-11T16:28:24.198978Z",
     "start_time": "2024-09-11T16:28:24.196204Z"
    }
   },
   "outputs": [],
   "source": [
    "sys_prompt = \"\"\"\\\n",
    "You are a helpful assistant tasked with generating customer support queries based on specific intents. The customer could be interacting with a support agent regarding issues, requests, or inquiries related to various aspects of their experience.\n",
    "\n",
    "**For each intent, output a JSON object in the following format:**\n",
    "\n",
    "```\n",
    "{\n",
    "    \"intent\": \"<intent_name>\",\n",
    "    \"seed_queries\": [\n",
    "        \"1. <query1>\",\n",
    "        \"2. <query2>\",\n",
    "        ...\n",
    "    ]\n",
    "}\n",
    "```\n",
    "\n",
    "### Guidelines:\n",
    "- **Intent Name:** A specific, predefined category such as \"DELIVERY_damaged_item\" or \"PRODUCT_exchange_product.\". The intents are typically in the format: SUBJECT_verb_object.\n",
    "- **Seed Queries:** These are questions or statements a customer might ask, naturally phrased, reflecting different variations of the intent. Provide *exactly 20* queries that a customer may ask for each intent.\n",
    "- Keep the language simple, conversational, and realistic.\n",
    "- Include possible variations in phrasing and urgency where applicable.\n",
    "\n",
    "### Example:\n",
    "\n",
    "```\n",
    "{\n",
    "    \"intent\": \"DELIVERY_damaged_item\",\n",
    "    \"seed_queries\": [\n",
    "        \"1. What can I do about my damaged order?\",\n",
    "        \"2. The item I received is broken. Can I get a replacement?\",\n",
    "        \"3. How do I return a defective product?\",\n",
    "        \"4. The package I received is damaged. Who should I contact?\",\n",
    "        \"5. My delivery was damaged. I need assistance.\",\n",
    "        ...\n",
    "    ]\n",
    "}\n",
    "```\n",
    "\n",
    "Generate similarly formatted queries for each intent provided.\n",
    "\"\"\""
   ]
  },
  {
   "cell_type": "code",
   "execution_count": 26,
   "id": "39c1e59eaeb96029",
   "metadata": {
    "ExecuteTime": {
     "end_time": "2024-09-11T16:43:37.587088Z",
     "start_time": "2024-09-11T16:43:37.584371Z"
    }
   },
   "outputs": [],
   "source": [
    "intents = [\n",
    "    \"DELIVERY_damaged_item\",\n",
    "    \"PAYMENT_report_payment_issue\",\n",
    "    \"PRODUCT_exchange_product\",\n",
    "]"
   ]
  },
  {
   "cell_type": "code",
   "id": "c759f7d6b3bac88f",
   "metadata": {
    "ExecuteTime": {
     "end_time": "2024-09-11T16:45:26.621334Z",
     "start_time": "2024-09-11T16:45:13.132432Z"
    }
   },
   "source": [
    "res = [client.chat.completions.create(\n",
    "    model=\"gpt-4o-mini\",\n",
    "    messages=[\n",
    "        {\"role\": \"system\", \"content\": sys_prompt},\n",
    "        {\"role\": \"user\", \"content\": f\"INTENT: {intent}\"},\n",
    "    ],\n",
    "    response_format={\"type\": \"json_object\"},\n",
    ") for intent in intents]"
   ],
   "outputs": [],
   "execution_count": 28
  },
  {
   "cell_type": "code",
   "id": "8a4209554f2c3be6",
   "metadata": {
    "ExecuteTime": {
     "end_time": "2024-09-11T16:46:16.282196Z",
     "start_time": "2024-09-11T16:46:16.279011Z"
    }
   },
   "source": "print(res[0].choices[0].message.content)",
   "outputs": [
    {
     "name": "stdout",
     "output_type": "stream",
     "text": [
      "{\n",
      "    \"intent\": \"DELIVERY_damaged_item\",\n",
      "    \"seed_queries\": [\n",
      "        \"1. What should I do if my item arrived damaged?\",\n",
      "        \"2. I received a damaged product. Can I get a refund?\",\n",
      "        \"3. How can I report a broken item from my order?\",\n",
      "        \"4. The package I got is damaged. What are my options?\",\n",
      "        \"5. My delivery arrived with a scratch. How can I fix this?\",\n",
      "        \"6. Can you help me with a damaged item from my recent order?\",\n",
      "        \"7. The item I ordered is not in good condition. What now?\",\n",
      "        \"8. How do I exchange a damaged product?\",\n",
      "        \"9. I found my item is defective on arrival, what next?\",\n",
      "        \"10. Who do I contact regarding a damaged delivery?\",\n",
      "        \"11. I got a broken item. Can I return it?\",\n",
      "        \"12. The product I received is not what I expected. It’s damaged.\",\n",
      "        \"13. Can you replace my damaged item?\",\n",
      "        \"14. What process do I follow for a damaged delivery?\",\n",
      "        \"15. My recent order was damaged during shipping. Need help!\",\n",
      "        \"16. How long does it take to process a damaged item return?\",\n",
      "        \"17. My parcel arrived damaged, are there any compensation options?\",\n",
      "        \"18. I have a damaged item and I want to return it, how?\",\n",
      "        \"19. What are the steps to handle a damaged item from delivery?\",\n",
      "        \"20. I received an item with damage. Can you assist me?\"\n",
      "    ]\n",
      "}\n"
     ]
    }
   ],
   "execution_count": 35
  },
  {
   "cell_type": "code",
   "id": "5b8ec1a918481621",
   "metadata": {
    "ExecuteTime": {
     "end_time": "2024-09-11T16:46:30.362363Z",
     "start_time": "2024-09-11T16:46:30.359450Z"
    }
   },
   "source": "print(res[1].choices[0].message.content)\n",
   "outputs": [
    {
     "name": "stdout",
     "output_type": "stream",
     "text": [
      "{\n",
      "    \"intent\": \"PAYMENT_report_payment_issue\",\n",
      "    \"seed_queries\": [\n",
      "        \"1. I noticed a problem with my payment. Can you help?\",\n",
      "        \"2. I was charged incorrectly. What should I do?\",\n",
      "        \"3. My payment didn't go through. Any advice?\",\n",
      "        \"4. I see a double charge on my account. How can I resolve this?\",\n",
      "        \"5. Can you assist me with an issue I had during checkout?\",\n",
      "        \"6. I'm having trouble with my payment process. What are my options?\",\n",
      "        \"7. I didn't receive a confirmation for my payment. What's going on?\",\n",
      "        \"8. How can I report an error with my recent payment?\",\n",
      "        \"9. There's an issue with my payment method. Can you assist me?\",\n",
      "        \"10. I think I was billed the wrong amount. What can I do?\",\n",
      "        \"11. My transaction is showing as failed, but my account was charged. Help!\",\n",
      "        \"12. I need to dispute a payment that was processed incorrectly.\",\n",
      "        \"13. Can you explain why my payment was declined?\",\n",
      "        \"14. What steps should I take if my payment gets flagged?\",\n",
      "        \"15. I'm seeing unauthorized charges on my account. Who do I contact?\",\n",
      "        \"16. How long does it take to fix a payment issue?\",\n",
      "        \"17. I want to follow up on a payment problem I reported earlier.\",\n",
      "        \"18. Is there a way to get a refund if there's a payment discrepancy?\",\n",
      "        \"19. I filled out a form for a payment issue but haven't heard back.\",\n",
      "        \"20. Can you tell me what to do about a payment that is pending?\"\n",
      "    ]\n",
      "}\n"
     ]
    }
   ],
   "execution_count": 36
  },
  {
   "metadata": {
    "ExecuteTime": {
     "end_time": "2024-09-11T16:46:40.600910Z",
     "start_time": "2024-09-11T16:46:40.596985Z"
    }
   },
   "cell_type": "code",
   "source": "print(res[2].choices[0].message.content)",
   "id": "ff03653d95830c2d",
   "outputs": [
    {
     "name": "stdout",
     "output_type": "stream",
     "text": [
      "{\n",
      "    \"intent\": \"PRODUCT_exchange_product\",\n",
      "    \"seed_queries\": [\n",
      "        \"1. How can I exchange my product?\",\n",
      "        \"2. I received the wrong item. Can I switch it for the right one?\",\n",
      "        \"3. What is the process for exchanging a product?\",\n",
      "        \"4. I need to exchange an item because it doesn't fit. What do I do?\",\n",
      "        \"5. Can I return an item and get a different one instead?\",\n",
      "        \"6. Is it possible to exchange my purchase for another color?\",\n",
      "        \"7. I'm not happy with my product. How do I start an exchange?\",\n",
      "        \"8. I want to exchange a defective product. What's the procedure?\",\n",
      "        \"9. Can you help me with exchanging my order?\",\n",
      "        \"10. I just realized I ordered the wrong size. Can I change it?\",\n",
      "        \"11. How long does an exchange take?\",\n",
      "        \"12. Do I need the original packaging to do an exchange?\",\n",
      "        \"13. Can I exchange more than one item at a time?\",\n",
      "        \"14. What information do I need to provide to exchange my item?\",\n",
      "        \"15. Are there any fees for exchanging a product?\",\n",
      "        \"16. Can I start an exchange online or do I need to visit a store?\",\n",
      "        \"17. What if my product was a gift? Can I still exchange it?\",\n",
      "        \"18. I received a gift that I want to exchange. Can I do that?\",\n",
      "        \"19. Can I track the status of my exchange request?\",\n",
      "        \"20. I exchanged a product, but I haven't received the new one. Where is it?\"\n",
      "    ]\n",
      "}\n"
     ]
    }
   ],
   "execution_count": 37
  },
  {
   "metadata": {
    "ExecuteTime": {
     "end_time": "2024-09-11T17:04:58.656196Z",
     "start_time": "2024-09-11T17:04:58.652395Z"
    }
   },
   "cell_type": "code",
   "source": [
    "with open(\"seed_queries.jsonl\", \"a\") as f:\n",
    "    for r in res:\n",
    "        json.dump(json.loads(r.choices[0].message.content), f)\n",
    "        f.write(\"\\n\")"
   ],
   "id": "3bcf72c71414e223",
   "outputs": [],
   "execution_count": 57
  },
  {
   "metadata": {},
   "cell_type": "code",
   "outputs": [],
   "execution_count": null,
   "source": "",
   "id": "573a7f15e7376de7"
  }
 ],
 "metadata": {
  "kernelspec": {
   "display_name": "Python 3",
   "language": "python",
   "name": "python3"
  },
  "language_info": {
   "codemirror_mode": {
    "name": "ipython",
    "version": 2
   },
   "file_extension": ".py",
   "mimetype": "text/x-python",
   "name": "python",
   "nbconvert_exporter": "python",
   "pygments_lexer": "ipython2",
   "version": "2.7.6"
  }
 },
 "nbformat": 4,
 "nbformat_minor": 5
}
