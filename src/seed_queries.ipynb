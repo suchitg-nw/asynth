{
 "cells": [
  {
   "cell_type": "code",
   "id": "initial_id",
   "metadata": {
    "collapsed": true,
    "ExecuteTime": {
     "end_time": "2024-09-12T07:20:15.409793Z",
     "start_time": "2024-09-12T07:20:14.873884Z"
    }
   },
   "source": [
    "import os\n",
    "import json\n",
    "from openai import OpenAI\n",
    "\n",
    "from dotenv import load_dotenv\n",
    "\n",
    "load_dotenv()"
   ],
   "outputs": [
    {
     "data": {
      "text/plain": [
       "True"
      ]
     },
     "execution_count": 1,
     "metadata": {},
     "output_type": "execute_result"
    }
   ],
   "execution_count": 1
  },
  {
   "cell_type": "code",
   "id": "6b49b512fdc1891e",
   "metadata": {
    "ExecuteTime": {
     "end_time": "2024-09-12T07:20:16.197068Z",
     "start_time": "2024-09-12T07:20:16.177004Z"
    }
   },
   "source": [
    "client = OpenAI(api_key=os.getenv(\"OPENAI_API_KEY\"))"
   ],
   "outputs": [],
   "execution_count": 2
  },
  {
   "cell_type": "code",
   "id": "d2e1df8eda46a0f5",
   "metadata": {
    "ExecuteTime": {
     "end_time": "2024-09-12T07:20:19.603464Z",
     "start_time": "2024-09-12T07:20:19.596274Z"
    }
   },
   "source": [
    "sys_prompt = \"\"\"\\\n",
    "You are a helpful assistant tasked with generating customer support queries based on specific intents. The customer could be interacting with a support agent regarding issues, requests, or inquiries related to various aspects of their experience.\n",
    "\n",
    "For each intent, output a JSON object in the following format:\n",
    "\n",
    "{\n",
    "    \"intent\": \"<intent_name>\",\n",
    "    \"seed_queries\": [\n",
    "        \"1. <query1>\",\n",
    "        \"2. <query2>\",\n",
    "        ...\n",
    "    ]\n",
    "}\n",
    "\n",
    "### Guidelines ###\n",
    "- Intent Name: A specific, predefined category such as \"DELIVERY_damaged_item\" or \"PRODUCT_exchange_product.\". The intents are typically in the format: SUBJECT_verb_object.\n",
    "- Seed Queries: These are questions or statements a customer might ask, naturally phrased, reflecting different variations of the intent. Provide *exactly 20* queries that a customer may ask for each intent.\n",
    "- Keep the language simple, conversational, and realistic.\n",
    "- Include possible variations in phrasing and urgency where applicable.\n",
    "\n",
    "### Example ###\n",
    "User Input: \"INTENT: DELIVERY_damaged_item\"\n",
    "Assistant Output:\n",
    "{\n",
    "    \"intent\": \"DELIVERY_damaged_item\",\n",
    "    \"seed_queries\": [\n",
    "        \"1. What can I do about my damaged order?\",\n",
    "        \"2. The item I received is broken. Can I get a replacement?\",\n",
    "        \"3. How do I return a defective product?\",\n",
    "        \"4. The package I received is damaged. Who should I contact?\",\n",
    "        \"5. My delivery was damaged. I need assistance.\",\n",
    "        ...\n",
    "    ]\n",
    "}\n",
    "\n",
    "Generate similarly formatted queries for each intent provided.\n",
    "\"\"\""
   ],
   "outputs": [],
   "execution_count": 3
  },
  {
   "metadata": {},
   "cell_type": "code",
   "outputs": [],
   "execution_count": null,
   "source": [
    "product_sys_prompt = \"\"\"\\\n",
    "You are a helpful assistant tasked with generating customer support queries based on specific intents. The customer could be interacting with a support agent regarding issues, requests, or inquiries related to various aspects of their experience.\n",
    "\n",
    "For each intent, output a JSON object in the following format:\n",
    "\n",
    "{\n",
    "    \"intent\": \"<intent_name>\",\n",
    "    \"seed_queries\": [\n",
    "        \"1. <query1>\",\n",
    "        \"2. <query2>\",\n",
    "        ...\n",
    "    ]\n",
    "}\n",
    "\n",
    "### Guidelines ###\n",
    "- Intent Name: A specific, predefined category such as \"DELIVERY_damaged_item\" or \"PRODUCT_exchange_product.\". The intents are typically in the format: SUBJECT_verb_object.\n",
    "- Seed Queries: These are questions or statements a customer might ask, naturally phrased, reflecting different variations of the intent. Provide *exactly 20* queries that a customer may ask for each intent.\n",
    "- Keep the language simple, conversational, and realistic.\n",
    "- Include possible variations in phrasing and urgency where applicable.\n",
    "\n",
    "### Example ###\n",
    "User Input: \"INTENT: DELIVERY_damaged_item\"\n",
    "Assistant Output:\n",
    "{\n",
    "    \"intent\": \"DELIVERY_damaged_item\",\n",
    "    \"seed_queries\": [\n",
    "        \"1. What can I do about my damaged order?\",\n",
    "        \"2. The item I received is broken. Can I get a replacement?\",\n",
    "        \"3. How do I return a defective product?\",\n",
    "        \"4. The package I received is damaged. Who should I contact?\",\n",
    "        \"5. My delivery was damaged. I need assistance.\",\n",
    "        ...\n",
    "    ]\n",
    "}\n",
    "\n",
    "Generate similarly formatted queries for each intent provided.\n",
    "\"\"\"\n"
   ],
   "id": "9e6e0938837fda1"
  },
  {
   "cell_type": "code",
   "id": "39c1e59eaeb96029",
   "metadata": {
    "ExecuteTime": {
     "end_time": "2024-09-12T07:20:40.212436Z",
     "start_time": "2024-09-12T07:20:40.207454Z"
    }
   },
   "source": [
    "intents = [\n",
    "    \"DELIVERY_damaged_item\",\n",
    "    \"PAYMENT_report_payment_issue\",\n",
    "    \"PRODUCT_exchange_product\",\n",
    "]"
   ],
   "outputs": [],
   "execution_count": 5
  },
  {
   "cell_type": "code",
   "id": "c759f7d6b3bac88f",
   "metadata": {
    "ExecuteTime": {
     "end_time": "2024-09-12T07:20:54.440497Z",
     "start_time": "2024-09-12T07:20:45.191085Z"
    }
   },
   "source": [
    "res = [client.chat.completions.create(\n",
    "    model=\"gpt-4o-mini\",\n",
    "    messages=[\n",
    "        {\"role\": \"system\", \"content\": sys_prompt},\n",
    "        {\"role\": \"user\", \"content\": f\"INTENT: {intent}\"},\n",
    "    ],\n",
    "    response_format={\"type\": \"json_object\"},\n",
    ") for intent in intents]"
   ],
   "outputs": [],
   "execution_count": 6
  },
  {
   "cell_type": "code",
   "id": "8a4209554f2c3be6",
   "metadata": {
    "ExecuteTime": {
     "end_time": "2024-09-12T07:20:54.469160Z",
     "start_time": "2024-09-12T07:20:54.463518Z"
    }
   },
   "source": "print(res[0].choices[0].message.content)",
   "outputs": [
    {
     "name": "stdout",
     "output_type": "stream",
     "text": [
      "{\n",
      "    \"intent\": \"DELIVERY_damaged_item\",\n",
      "    \"seed_queries\": [\n",
      "        \"1. What should I do if my order arrived damaged?\",\n",
      "        \"2. The item I received is broken. Can I return it?\",\n",
      "        \"3. How can I report a damaged product I received?\",\n",
      "        \"4. The package was damaged upon arrival. Who can help me?\",\n",
      "        \"5. I received a defected item. Can I get a refund?\",\n",
      "        \"6. What is the process for replacing a damaged item?\",\n",
      "        \"7. My order came in a bad condition. How do I handle this?\",\n",
      "        \"8. Can I send back a broken item for a replacement?\",\n",
      "        \"9. There’s a problem with my delivery. What are my options?\",\n",
      "        \"10. How do I report a damaged delivery to customer service?\",\n",
      "        \"11. I got a damaged product in my shipment. What now?\",\n",
      "        \"12. Can you help me with a damaged item I received?\",\n",
      "        \"13. I need to return a damaged order. What steps do I take?\",\n",
      "        \"14. Who do I contact about a defective product delivery?\",\n",
      "        \"15. The item I got is damaged. Can I exchange it?\",\n",
      "        \"16. My delivery was mishandled and is broken. What can I do?\",\n",
      "        \"17. Is there a warranty for damaged items I received?\",\n",
      "        \"18. What information do I need to provide for a damaged item claim?\",\n",
      "        \"19. Can I get a replacement for my damaged order quickly?\",\n",
      "        \"20. I want to report a damaged delivery as soon as possible.\"\n",
      "    ]\n",
      "}\n"
     ]
    }
   ],
   "execution_count": 7
  },
  {
   "cell_type": "code",
   "id": "5b8ec1a918481621",
   "metadata": {
    "ExecuteTime": {
     "end_time": "2024-09-12T07:20:58.907137Z",
     "start_time": "2024-09-12T07:20:58.901146Z"
    }
   },
   "source": "print(res[1].choices[0].message.content)\n",
   "outputs": [
    {
     "name": "stdout",
     "output_type": "stream",
     "text": [
      "{\n",
      "    \"intent\": \"PAYMENT_report_payment_issue\",\n",
      "    \"seed_queries\": [\n",
      "        \"1. I have a problem with my payment. Can you help?\",\n",
      "        \"2. My payment didn't go through. What should I do?\",\n",
      "        \"3. I was charged incorrectly for my order. How can I resolve this?\",\n",
      "        \"4. I need assistance with a payment issue I encountered.\",\n",
      "        \"5. Can I report a problem with my recent transaction?\",\n",
      "        \"6. My payment shows as pending. What's happening?\",\n",
      "        \"7. I think I've been charged twice for my purchase. What steps should I take?\",\n",
      "        \"8. I didn't receive a confirmation for my payment. Is it successful?\",\n",
      "        \"9. I'm having trouble with my payment method. Can you assist?\",\n",
      "        \"10. What do I do if my payment is declined?\",\n",
      "        \"11. I need to dispute a charge on my account.\",\n",
      "        \"12. Why did my payment fail? Can you clarify?\",\n",
      "        \"13. I can't find the payment receipt for my order.\",\n",
      "        \"14. How can I fix an error in my payment details?\",\n",
      "        \"15. My bank statement shows a charge I didn't authorize. What should I do?\",\n",
      "        \"16. I'd like to investigate a recent payment discrepancy.\",\n",
      "        \"17. Can I update my payment information if there's an issue?\",\n",
      "        \"18. What is the process to report a payment mistake?\",\n",
      "        \"19. I need help with a refund that hasn't come through.\",\n",
      "        \"20. Can I get support for a payment issue related to my subscription?\"\n",
      "    ]\n",
      "}\n"
     ]
    }
   ],
   "execution_count": 8
  },
  {
   "metadata": {
    "ExecuteTime": {
     "end_time": "2024-09-12T07:21:01.445731Z",
     "start_time": "2024-09-12T07:21:01.438066Z"
    }
   },
   "cell_type": "code",
   "source": "print(res[2].choices[0].message.content)",
   "id": "ff03653d95830c2d",
   "outputs": [
    {
     "name": "stdout",
     "output_type": "stream",
     "text": [
      "{\n",
      "    \"intent\": \"PRODUCT_exchange_product\",\n",
      "    \"seed_queries\": [\n",
      "        \"1. Can I exchange the product I ordered?\",\n",
      "        \"2. I received the wrong item. How can I exchange it?\",\n",
      "        \"3. I want to exchange my product for a different size. What should I do?\",\n",
      "        \"4. Is it possible to swap my item for another one?\",\n",
      "        \"5. How do I go about exchanging my product?\",\n",
      "        \"6. The item I bought doesn’t fit. Can I return it for a different one?\",\n",
      "        \"7. What’s the process for exchanging a product?\",\n",
      "        \"8. I changed my mind and want to exchange my order. Can I do that?\",\n",
      "        \"9. There’s something wrong with my item. Can I exchange it?\",\n",
      "        \"10. Can you help me with a product exchange?\",\n",
      "        \"11. Does your store allow exchanges for items? How does that work?\",\n",
      "        \"12. I received a faulty item. How do I exchange it?\",\n",
      "        \"13. If I exchange my product, will I get the same price?\",\n",
      "        \"14. What items are eligible for exchange?\",\n",
      "        \"15. I bought a gift and want to exchange it. How can I do that?\",\n",
      "        \"16. Can I exchange my product if I lost the receipt?\",\n",
      "        \"17. My item arrived damaged. What is the exchange policy?\",\n",
      "        \"18. How long do I have to request an exchange?\",\n",
      "        \"19. What are the shipping costs for exchanging a product?\",\n",
      "        \"20. Can I drop off my item in-store for an exchange?\"\n",
      "    ]\n",
      "}\n"
     ]
    }
   ],
   "execution_count": 9
  },
  {
   "metadata": {
    "ExecuteTime": {
     "end_time": "2024-09-12T07:23:01.526863Z",
     "start_time": "2024-09-12T07:23:01.522532Z"
    }
   },
   "cell_type": "code",
   "source": "s = \"this is [camera, mobile, laptop] product\"",
   "id": "fb0dd833c3a15dbf",
   "outputs": [],
   "execution_count": 10
  },
  {
   "metadata": {
    "ExecuteTime": {
     "end_time": "2024-09-12T07:23:22.991166Z",
     "start_time": "2024-09-12T07:23:22.985319Z"
    }
   },
   "cell_type": "code",
   "source": "s.split('[')[-1]",
   "id": "140d5d607436cecf",
   "outputs": [
    {
     "data": {
      "text/plain": [
       "'camera, mobile, laptop] product'"
      ]
     },
     "execution_count": 11,
     "metadata": {},
     "output_type": "execute_result"
    }
   ],
   "execution_count": 11
  },
  {
   "metadata": {
    "ExecuteTime": {
     "end_time": "2024-09-12T07:24:47.265118Z",
     "start_time": "2024-09-12T07:24:47.257654Z"
    }
   },
   "cell_type": "code",
   "source": "list(map(str.strip, s.split('[')[-1].split(']')[0].split(',')))",
   "id": "edb988bc1d893b58",
   "outputs": [
    {
     "data": {
      "text/plain": [
       "['camera', 'mobile', 'laptop']"
      ]
     },
     "execution_count": 17,
     "metadata": {},
     "output_type": "execute_result"
    }
   ],
   "execution_count": 17
  },
  {
   "metadata": {
    "ExecuteTime": {
     "end_time": "2024-09-11T17:04:58.656196Z",
     "start_time": "2024-09-11T17:04:58.652395Z"
    }
   },
   "cell_type": "code",
   "source": [
    "with open(\"seed_queries.jsonl\", \"a\") as f:\n",
    "    for r in res:\n",
    "        json.dump(json.loads(r.choices[0].message.content), f)\n",
    "        f.write(\"\\n\")"
   ],
   "id": "3bcf72c71414e223",
   "outputs": [],
   "execution_count": 57
  },
  {
   "metadata": {},
   "cell_type": "code",
   "outputs": [],
   "execution_count": null,
   "source": "",
   "id": "573a7f15e7376de7"
  }
 ],
 "metadata": {
  "kernelspec": {
   "display_name": "Python 3",
   "language": "python",
   "name": "python3"
  },
  "language_info": {
   "codemirror_mode": {
    "name": "ipython",
    "version": 2
   },
   "file_extension": ".py",
   "mimetype": "text/x-python",
   "name": "python",
   "nbconvert_exporter": "python",
   "pygments_lexer": "ipython2",
   "version": "2.7.6"
  }
 },
 "nbformat": 4,
 "nbformat_minor": 5
}
